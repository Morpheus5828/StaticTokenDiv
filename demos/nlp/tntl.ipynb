{
 "cells": [
  {
   "cell_type": "code",
   "execution_count": 1,
   "metadata": {
    "ExecuteTime": {
     "end_time": "2024-11-10T10:53:51.302657900Z",
     "start_time": "2024-11-10T10:53:48.439300Z"
    }
   },
   "outputs": [],
   "source": [
    "import torch\n",
    "import torch.nn as nn\n",
    "from torch.utils.data import TensorDataset, DataLoader\n",
    "import sys, os\n",
    "import math\n",
    "from sklearn.model_selection import train_test_split\n",
    "module_path = os.path.abspath(os.path.join('../..'))\n",
    "\n",
    "if module_path not in sys.path:\n",
    "    sys.path.append(module_path)\n",
    "\n",
    "import matplotlib.pyplot as plt\n",
    "import static_token_div.tools.vocab_tools as vocab_tools"
   ]
  },
  {
   "cell_type": "code",
   "execution_count": 2,
   "metadata": {
    "collapsed": false,
    "jupyter": {
     "outputs_hidden": false
    },
    "ExecuteTime": {
     "end_time": "2024-11-10T10:53:51.316670600Z",
     "start_time": "2024-11-10T10:53:51.303659Z"
    }
   },
   "outputs": [
    {
     "name": "stdout",
     "output_type": "stream",
     "text": [
      "Using gpu: False \n"
     ]
    }
   ],
   "source": [
    "device = torch.device(\"cuda:0\" if torch.cuda.is_available() else \"cpu\")\n",
    "print('Using gpu: %s ' % torch.cuda.is_available())"
   ]
  },
  {
   "cell_type": "code",
   "execution_count": 3,
   "metadata": {
    "collapsed": false,
    "jupyter": {
     "outputs_hidden": false
    },
    "ExecuteTime": {
     "end_time": "2024-11-10T10:53:51.350702Z",
     "start_time": "2024-11-10T10:53:51.317671400Z"
    }
   },
   "outputs": [],
   "source": [
    "def read_corpus(file_path):\n",
    "    with open(file_path, 'r', encoding='utf-8') as f:\n",
    "        text = f.read()\n",
    "    tokens = text.strip().split()\n",
    "    return tokens"
   ]
  },
  {
   "cell_type": "code",
   "execution_count": 4,
   "metadata": {
    "ExecuteTime": {
     "end_time": "2024-11-10T10:54:01.238750700Z",
     "start_time": "2024-11-10T10:53:59.422901100Z"
    }
   },
   "outputs": [
    {
     "data": {
      "text/plain": "3154"
     },
     "execution_count": 4,
     "metadata": {},
     "output_type": "execute_result"
    }
   ],
   "source": [
    "vocab = vocab_tools.Vocab(emb_filename=\"embedding.txt\")\n",
    "len(vocab.dico_voca)"
   ]
  },
  {
   "cell_type": "markdown",
   "source": [],
   "metadata": {
    "collapsed": false
   }
  },
  {
   "cell_type": "code",
   "execution_count": 49,
   "metadata": {
    "collapsed": false,
    "jupyter": {
     "outputs_hidden": false
    },
    "ExecuteTime": {
     "end_time": "2024-11-09T18:08:35.287990200Z",
     "start_time": "2024-11-09T18:08:35.279984800Z"
    }
   },
   "outputs": [
    {
     "data": {
      "text/plain": "False"
     },
     "execution_count": 49,
     "metadata": {},
     "output_type": "execute_result"
    }
   ],
   "source": [
    "\"Ã\" in vocab.dico_voca.keys()"
   ]
  },
  {
   "cell_type": "code",
   "execution_count": 50,
   "metadata": {
    "collapsed": false,
    "jupyter": {
     "outputs_hidden": false
    },
    "ExecuteTime": {
     "end_time": "2024-11-09T18:08:36.503669300Z",
     "start_time": "2024-11-09T18:08:36.487658100Z"
    }
   },
   "outputs": [
    {
     "data": {
      "text/plain": "(torch.Size([12989, 100]), 3155)"
     },
     "execution_count": 50,
     "metadata": {},
     "output_type": "execute_result"
    }
   ],
   "source": [
    "vocab.matrice.shape, len(vocab.dico_voca)"
   ]
  },
  {
   "cell_type": "code",
   "execution_count": 51,
   "metadata": {
    "collapsed": false,
    "jupyter": {
     "outputs_hidden": false
    },
    "ExecuteTime": {
     "end_time": "2024-11-09T18:08:39.277849900Z",
     "start_time": "2024-11-09T18:08:39.271845300Z"
    }
   },
   "outputs": [],
   "source": [
    "def process_data_with_corpus(vocab, tokens, k: int):\n",
    "    X_data, y_data = [], []\n",
    "    indices = [vocab.get_word_index2(token) for token in tokens]\n",
    "\n",
    "    for i in range(k, len(indices)):\n",
    "        x_indices = indices[i - k:i]\n",
    "        y_index = indices[i]\n",
    "\n",
    "        embeddings = [vocab.get_emb_torch(idx) for idx in x_indices]\n",
    "        x_embedded = torch.cat(embeddings)\n",
    "        X_data.append(x_embedded)\n",
    "        y_data.append(y_index)\n",
    "\n",
    "    X_tensor = torch.stack(X_data)\n",
    "    y_tensor = torch.tensor(y_data, dtype=torch.long)\n",
    "    return X_tensor, y_tensor\n"
   ]
  },
  {
   "cell_type": "code",
   "execution_count": 102,
   "metadata": {
    "collapsed": false,
    "jupyter": {
     "outputs_hidden": false
    },
    "ExecuteTime": {
     "end_time": "2024-11-09T18:44:49.370865400Z",
     "start_time": "2024-11-09T18:44:49.347846400Z"
    }
   },
   "outputs": [
    {
     "data": {
      "text/plain": "249494"
     },
     "execution_count": 102,
     "metadata": {},
     "output_type": "execute_result"
    }
   ],
   "source": [
    "k = 5\n",
    "file_path = \"../../resources/tlnl_tp1_data/alexandre_dumas/Le_comte_de_Monte_Cristo.tok\"\n",
    "data = read_corpus(file_path)\n",
    "len(data)"
   ]
  },
  {
   "cell_type": "code",
   "execution_count": 103,
   "outputs": [
    {
     "data": {
      "text/plain": "(torch.Size([199591, 500]), torch.Size([199591]))"
     },
     "execution_count": 103,
     "metadata": {},
     "output_type": "execute_result"
    }
   ],
   "source": [
    "data = read_corpus(file_path)\n",
    "X_data, y_data = process_data_with_corpus(vocab, data, k=k)\n",
    "X_train, X_test, y_train, y_test = train_test_split(X_data, y_data, test_size=0.2)\n",
    "X_train.shape, y_train.shape"
   ],
   "metadata": {
    "collapsed": false,
    "ExecuteTime": {
     "end_time": "2024-11-09T18:44:54.545975200Z",
     "start_time": "2024-11-09T18:44:50.061523700Z"
    }
   }
  },
  {
   "cell_type": "code",
   "execution_count": 104,
   "metadata": {
    "collapsed": false,
    "jupyter": {
     "outputs_hidden": false
    },
    "ExecuteTime": {
     "end_time": "2024-11-09T18:44:54.591514200Z",
     "start_time": "2024-11-09T18:44:54.546975600Z"
    }
   },
   "outputs": [
    {
     "data": {
      "text/plain": "'k = 3\\ntrain_file_path = \"../../resources/tlnl_tp1_data/alexandre_dumas/Le_comte_de_Monte_Cristo.train.unk5.tok\"\\ntest_file_path = \"../../resources/tlnl_tp1_data/alexandre_dumas/Le_comte_de_Monte_Cristo.test.unk5.tok\"\\n\\ntrain_tokens = read_corpus(train_file_path)\\ntest_tokens = read_corpus(test_file_path)'"
     },
     "execution_count": 104,
     "metadata": {},
     "output_type": "execute_result"
    }
   ],
   "source": [
    "'''k = 3\n",
    "train_file_path = \"../../resources/tlnl_tp1_data/alexandre_dumas/Le_comte_de_Monte_Cristo.train.unk5.tok\"\n",
    "test_file_path = \"../../resources/tlnl_tp1_data/alexandre_dumas/Le_comte_de_Monte_Cristo.test.unk5.tok\"\n",
    "\n",
    "train_tokens = read_corpus(train_file_path)\n",
    "test_tokens = read_corpus(test_file_path)'''"
   ]
  },
  {
   "cell_type": "code",
   "execution_count": 105,
   "outputs": [
    {
     "data": {
      "text/plain": "'X_train, y_train = process_data_with_corpus(vocab, train_tokens, k=k)\\nX_train = X_train.to(device)\\ny_train = y_train.to(device)\\n\\nX_test, y_test = process_data_with_corpus(vocab, test_tokens, k=k)\\nX_test = X_test.to(device)\\ny_test = y_test.to(device)'"
     },
     "execution_count": 105,
     "metadata": {},
     "output_type": "execute_result"
    }
   ],
   "source": [
    "'''X_train, y_train = process_data_with_corpus(vocab, train_tokens, k=k)\n",
    "X_train = X_train.to(device)\n",
    "y_train = y_train.to(device)\n",
    "\n",
    "X_test, y_test = process_data_with_corpus(vocab, test_tokens, k=k)\n",
    "X_test = X_test.to(device)\n",
    "y_test = y_test.to(device)'''"
   ],
   "metadata": {
    "collapsed": false,
    "ExecuteTime": {
     "end_time": "2024-11-09T18:44:54.598519900Z",
     "start_time": "2024-11-09T18:44:54.560986700Z"
    }
   }
  },
  {
   "cell_type": "code",
   "execution_count": 106,
   "metadata": {
    "collapsed": false,
    "jupyter": {
     "outputs_hidden": false
    },
    "scrolled": true,
    "ExecuteTime": {
     "end_time": "2024-11-09T18:44:54.598519900Z",
     "start_time": "2024-11-09T18:44:54.580001400Z"
    }
   },
   "outputs": [],
   "source": [
    "class MLP(nn.Module):\n",
    "    def __init__(self, k, vocab_size):\n",
    "        super().__init__()\n",
    "        self.relu = nn.ReLU()\n",
    "        self.fc1 = nn.Linear(100 * k, 128)\n",
    "\n",
    "        self.fc2 = nn.Linear(128, 32)\n",
    "        self.fc3 = nn.Linear(32, vocab_size)\n",
    "        self.dropout = nn.Dropout(0.2)\n",
    "\n",
    "    def forward(self, x):\n",
    "        x = self.relu(self.fc1(x))\n",
    "        #x = self.dropout(x)\n",
    "        x = self.relu(self.fc2(x))\n",
    "        x = self.fc3(x)\n",
    "        return x\n"
   ]
  },
  {
   "cell_type": "code",
   "execution_count": 107,
   "metadata": {
    "collapsed": false,
    "jupyter": {
     "outputs_hidden": false
    },
    "ExecuteTime": {
     "end_time": "2024-11-09T18:44:54.607527300Z",
     "start_time": "2024-11-09T18:44:54.593516200Z"
    }
   },
   "outputs": [],
   "source": [
    "def train(model, criterion, optimizer, X_train, y_train, X_test, y_test, device, batch_size=64, nb_epoch=10):\n",
    "    history = {\n",
    "        \"train_loss\": [],\n",
    "        \"test_loss\": []\n",
    "    }\n",
    "\n",
    "    num_samples = X_train.size(0)\n",
    "    num_batches = (num_samples + batch_size - 1) // batch_size\n",
    "\n",
    "    train_dataset = TensorDataset(X_train, y_train)\n",
    "    train_dataloader = DataLoader(train_dataset, batch_size=batch_size, shuffle=True)\n",
    "\n",
    "    test_dataset = TensorDataset(X_test, y_test)\n",
    "    test_loader = DataLoader(test_dataset, batch_size=batch_size, shuffle=False)\n",
    "\n",
    "    for epoch in range(nb_epoch):\n",
    "        model.train()\n",
    "        total_loss = 0.0\n",
    "\n",
    "        for batch_X, batch_Y in train_dataloader:\n",
    "            batch_X = batch_X.to(device)\n",
    "            batch_Y = batch_Y.to(device)\n",
    "\n",
    "            outputs = model(batch_X)\n",
    "            loss = criterion(outputs, batch_Y)\n",
    "\n",
    "            optimizer.zero_grad()\n",
    "            loss.backward()\n",
    "            optimizer.step()\n",
    "\n",
    "            total_loss += loss.item()\n",
    "\n",
    "        avg_train_loss = total_loss / num_batches\n",
    "        history[\"train_loss\"].append(avg_train_loss)\n",
    "\n",
    "        model.eval()\n",
    "        total_test_loss = 0\n",
    "        with torch.no_grad():\n",
    "            for batch_X, batch_Y in test_loader:\n",
    "                batch_X = batch_X.to(device)\n",
    "                batch_Y = batch_Y.to(device)\n",
    "                outputs = model(batch_X)\n",
    "                loss = criterion(outputs, batch_Y)\n",
    "\n",
    "                total_test_loss += loss.item()\n",
    "\n",
    "        avg_test_loss = total_test_loss / len(test_loader)\n",
    "        history[\"test_loss\"].append(avg_test_loss)\n",
    "\n",
    "        print(f'Epoch [{epoch+1}/{nb_epoch}], train loss: {avg_train_loss:.4f}, test loss: {avg_test_loss:.4f}')\n",
    "\n",
    "    return history"
   ]
  },
  {
   "cell_type": "code",
   "execution_count": 108,
   "metadata": {
    "ExecuteTime": {
     "end_time": "2024-11-09T18:44:54.653564600Z",
     "start_time": "2024-11-09T18:44:54.608528Z"
    }
   },
   "outputs": [],
   "source": [
    "def calculate_perplexity(model, data_loader, device):\n",
    "    model.eval()  \n",
    "    total_loss = 0.0\n",
    "    total_words = 0\n",
    "\n",
    "    criterion = nn.CrossEntropyLoss(reduction='sum')  \n",
    "\n",
    "    with torch.no_grad():\n",
    "        for batch_X, batch_Y in data_loader:\n",
    "            batch_X = batch_X.to(device)\n",
    "            batch_Y = batch_Y.to(device)\n",
    "\n",
    "            outputs = model(batch_X)\n",
    "\n",
    "            loss = criterion(outputs, batch_Y)\n",
    "\n",
    "            total_loss += loss.item()\n",
    "            total_words += batch_Y.size(0)\n",
    "\n",
    "    # Calcul de la perplexité\n",
    "    avg_loss = total_loss / total_words\n",
    "    perplexity = math.exp(avg_loss)  \n",
    "    return perplexity"
   ]
  },
  {
   "cell_type": "code",
   "execution_count": 109,
   "metadata": {
    "ExecuteTime": {
     "end_time": "2024-11-09T18:44:54.662571500Z",
     "start_time": "2024-11-09T18:44:54.624540800Z"
    }
   },
   "outputs": [
    {
     "data": {
      "text/plain": "3155"
     },
     "execution_count": 109,
     "metadata": {},
     "output_type": "execute_result"
    }
   ],
   "source": [
    "len(vocab.dico_voca)"
   ]
  },
  {
   "cell_type": "code",
   "execution_count": 110,
   "metadata": {
    "collapsed": false,
    "jupyter": {
     "outputs_hidden": false
    },
    "ExecuteTime": {
     "end_time": "2024-11-09T18:44:54.662571500Z",
     "start_time": "2024-11-09T18:44:54.653564600Z"
    }
   },
   "outputs": [],
   "source": [
    "model = MLP(k=k, vocab_size=vocab.vocab_size).to(device)\n",
    "optimizer = torch.optim.Adam(lr=1e-4, params=model.parameters(), weight_decay=1e-5)\n",
    "criterion = nn.CrossEntropyLoss()\n",
    "batch_size=64"
   ]
  },
  {
   "cell_type": "code",
   "execution_count": 111,
   "metadata": {
    "collapsed": false,
    "jupyter": {
     "outputs_hidden": false
    },
    "ExecuteTime": {
     "end_time": "2024-11-09T18:48:39.227574500Z",
     "start_time": "2024-11-09T18:44:56.689448500Z"
    }
   },
   "outputs": [
    {
     "name": "stdout",
     "output_type": "stream",
     "text": [
      "Epoch [1/20], train loss: 5.2437, test loss: 4.5823\n",
      "Epoch [2/20], train loss: 4.4561, test loss: 4.3399\n",
      "Epoch [3/20], train loss: 4.2434, test loss: 4.1878\n",
      "Epoch [4/20], train loss: 4.1088, test loss: 4.0861\n",
      "Epoch [5/20], train loss: 4.0125, test loss: 4.0112\n",
      "Epoch [6/20], train loss: 3.9363, test loss: 3.9536\n",
      "Epoch [7/20], train loss: 3.8720, test loss: 3.9001\n",
      "Epoch [8/20], train loss: 3.8167, test loss: 3.8561\n",
      "Epoch [9/20], train loss: 3.7693, test loss: 3.8221\n",
      "Epoch [10/20], train loss: 3.7286, test loss: 3.7920\n",
      "Epoch [11/20], train loss: 3.6930, test loss: 3.7658\n",
      "Epoch [12/20], train loss: 3.6613, test loss: 3.7441\n",
      "Epoch [13/20], train loss: 3.6340, test loss: 3.7247\n",
      "Epoch [14/20], train loss: 3.6096, test loss: 3.7101\n",
      "Epoch [15/20], train loss: 3.5874, test loss: 3.6946\n",
      "Epoch [16/20], train loss: 3.5674, test loss: 3.6834\n",
      "Epoch [17/20], train loss: 3.5486, test loss: 3.6710\n",
      "Epoch [18/20], train loss: 3.5320, test loss: 3.6610\n",
      "Epoch [19/20], train loss: 3.5162, test loss: 3.6532\n",
      "Epoch [20/20], train loss: 3.5014, test loss: 3.6442\n"
     ]
    }
   ],
   "source": [
    "history = train(model, criterion, optimizer, X_train, y_train, X_test, y_test, device, batch_size=batch_size, nb_epoch=20)"
   ]
  },
  {
   "cell_type": "code",
   "execution_count": 112,
   "metadata": {
    "collapsed": false,
    "jupyter": {
     "outputs_hidden": false
    },
    "ExecuteTime": {
     "end_time": "2024-11-09T18:48:40.119522700Z",
     "start_time": "2024-11-09T18:48:39.229576300Z"
    }
   },
   "outputs": [
    {
     "data": {
      "text/plain": "(0.0, 5.0)"
     },
     "execution_count": 112,
     "metadata": {},
     "output_type": "execute_result"
    },
    {
     "data": {
      "text/plain": "<Figure size 640x480 with 1 Axes>",
      "image/png": "[encoded data removed]"
     },
     "metadata": {},
     "output_type": "display_data"
    }
   ],
   "source": [
    "test_dataset = TensorDataset(X_test, y_test)\n",
    "test_loader = DataLoader(test_dataset, batch_size=batch_size, shuffle=False)\n",
    "perplexity = calculate_perplexity(model, test_loader, device)\n",
    "\n",
    "plt.plot(history[\"train_loss\"], c=\"blue\", label=\"Train loss\")\n",
    "plt.plot(history[\"test_loss\"], c=\"orange\", label=\"Test loss\")\n",
    "plt.ylabel(\"Score\")\n",
    "plt.xlabel(\"Epoch\")\n",
    "plt.title(f\"Training loss, perplexity: {perplexity:.2f}\")\n",
    "plt.legend()\n",
    "plt.ylim(0, 5)"
   ]
  },
  {
   "cell_type": "code",
   "execution_count": 113,
   "metadata": {
    "ExecuteTime": {
     "end_time": "2024-11-09T18:48:43.941906800Z",
     "start_time": "2024-11-09T18:48:43.934900300Z"
    }
   },
   "outputs": [],
   "source": [
    "def find_closest_word(output, embedding, vocab):\n",
    "    current_ixd = 0\n",
    "    dist = float(\"inf\")\n",
    "    for idx, line in enumerate(embedding):\n",
    "        if torch.linalg.norm(line - output) < dist:\n",
    "            current_ixd = idx\n",
    "            dist = torch.linalg.norm(line - output)\n",
    "    for word in vocab.dico_voca.keys():\n",
    "        if vocab.dico_voca[word] == current_ixd:\n",
    "            return word\n",
    "\n",
    "\n",
    "def run(model, vocab, embedding, start_word):\n",
    "    start_indices = [vocab.dico_voca[word] for word in start_word]\n",
    "    embeddings = torch.concat([torch.Tensor(embedding[idx]) for idx in start_indices])\n",
    "    output = model(embeddings)\n",
    "    next_word = find_closest_word(output, embeddings, vocab)\n",
    "    return next_word"
   ]
  },
  {
   "cell_type": "code",
   "execution_count": 116,
   "metadata": {
    "collapsed": false,
    "jupyter": {
     "outputs_hidden": false
    },
    "ExecuteTime": {
     "end_time": "2024-11-09T18:49:03.034711600Z",
     "start_time": "2024-11-09T18:49:02.939330800Z"
    }
   },
   "outputs": [
    {
     "name": "stdout",
     "output_type": "stream",
     "text": [
      "['il', 'y', 'a', 'un', 'arbre', 'agent', 'bout', 'dix', 'affaire', 'réponds', 'capitaine', 'arrivé', 'outre', 'après', 'flamme']\n"
     ]
    }
   ],
   "source": [
    "#startword = \"le lendemain matin\"\n",
    "startword = \"il y a un arbre\"\n",
    "words = startword.split(\" \")\n",
    "for i in range(10):\n",
    "    current_words = words[-k:]\n",
    "    next_word = run(model, vocab, embedding=vocab.matrice, start_word=current_words)\n",
    "    words.append(next_word)\n",
    "\n",
    "print(words)"
   ]
  },
  {
   "cell_type": "code",
   "execution_count": 193,
   "outputs": [],
   "source": [],
   "metadata": {
    "collapsed": false,
    "ExecuteTime": {
     "end_time": "2024-11-08T14:40:59.648712600Z",
     "start_time": "2024-11-08T14:40:59.643707100Z"
    }
   }
  },
  {
   "cell_type": "code",
   "execution_count": 6,
   "outputs": [],
   "source": [],
   "metadata": {
    "collapsed": false,
    "ExecuteTime": {
     "end_time": "2024-11-08T12:58:38.059958700Z",
     "start_time": "2024-11-08T12:58:38.028977600Z"
    }
   }
  },
  {
   "cell_type": "code",
   "execution_count": 59,
   "outputs": [],
   "source": [],
   "metadata": {
    "collapsed": false,
    "ExecuteTime": {
     "end_time": "2024-11-08T12:48:50.402702800Z",
     "start_time": "2024-11-08T12:48:50.396697200Z"
    }
   }
  },
  {
   "cell_type": "code",
   "execution_count": 43,
   "outputs": [],
   "source": [],
   "metadata": {
    "collapsed": false,
    "ExecuteTime": {
     "end_time": "2024-11-08T12:42:51.281848100Z",
     "start_time": "2024-11-08T12:42:51.270834400Z"
    }
   }
  },
  {
   "cell_type": "code",
   "execution_count": null,
   "outputs": [],
   "source": [],
   "metadata": {
    "collapsed": false
   }
  }
 ],
 "metadata": {
  "kernelspec": {
   "display_name": "Python 3 (ipykernel)",
   "language": "python",
   "name": "python3"
  },
  "language_info": {
   "codemirror_mode": {
    "name": "ipython",
    "version": 3
   },
   "file_extension": ".py",
   "mimetype": "text/x-python",
   "name": "python",
   "nbconvert_exporter": "python",
   "pygments_lexer": "ipython3",
   "version": "3.10.0"
  }
 },
 "nbformat": 4,
 "nbformat_minor": 4
}
