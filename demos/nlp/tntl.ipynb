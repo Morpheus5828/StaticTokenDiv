{
 "cells": [
  {
   "cell_type": "code",
   "execution_count": 9,
   "metadata": {
    "ExecuteTime": {
     "end_time": "2024-11-08T13:00:43.016696800Z",
     "start_time": "2024-11-08T13:00:42.987338Z"
    }
   },
   "outputs": [],
   "source": [
    "import torch\n",
    "import torch.nn as nn\n",
    "from torch.utils.data import TensorDataset, DataLoader\n",
    "import sys\n",
    "import os\n",
    "import math\n",
    "module_path = os.path.abspath(os.path.join('../..'))\n",
    "\n",
    "if module_path not in sys.path:\n",
    "    sys.path.append(module_path)\n",
    "\n",
    "import matplotlib.pyplot as plt\n",
    "import static_token_div.tools.vocab_tools as vocab_tools"
   ]
  },
  {
   "cell_type": "code",
   "execution_count": 10,
   "metadata": {
    "collapsed": false,
    "jupyter": {
     "outputs_hidden": false
    },
    "ExecuteTime": {
     "end_time": "2024-11-08T13:00:43.113226800Z",
     "start_time": "2024-11-08T13:00:43.107221600Z"
    }
   },
   "outputs": [
    {
     "name": "stdout",
     "output_type": "stream",
     "text": [
      "Using gpu: False \n"
     ]
    }
   ],
   "source": [
    "device = torch.device(\"cuda:0\" if torch.cuda.is_available() else \"cpu\")\n",
    "print('Using gpu: %s ' % torch.cuda.is_available())"
   ]
  },
  {
   "cell_type": "code",
   "execution_count": 11,
   "metadata": {
    "collapsed": false,
    "jupyter": {
     "outputs_hidden": false
    },
    "ExecuteTime": {
     "end_time": "2024-11-08T13:00:43.218209700Z",
     "start_time": "2024-11-08T13:00:43.212204900Z"
    }
   },
   "outputs": [],
   "source": [
    "def read_corpus(file_path):\n",
    "    with open(file_path, 'r', encoding='utf-8') as f:\n",
    "        text = f.read()\n",
    "    tokens = text.strip().split()\n",
    "    return tokens"
   ]
  },
  {
   "cell_type": "code",
   "execution_count": 11,
   "metadata": {
    "ExecuteTime": {
     "end_time": "2024-11-08T13:00:43.325281700Z",
     "start_time": "2024-11-08T13:00:43.317274200Z"
    }
   },
   "outputs": [],
   "source": []
  },
  {
   "cell_type": "code",
   "execution_count": 12,
   "metadata": {
    "ExecuteTime": {
     "end_time": "2024-11-08T13:00:45.036142100Z",
     "start_time": "2024-11-08T13:00:43.421623100Z"
    }
   },
   "outputs": [],
   "source": [
    "vocab = vocab_tools.Vocab(emb_filename=\"embeddings-word2vecofficial.train.unk5.txt\")"
   ]
  },
  {
   "cell_type": "markdown",
   "source": [],
   "metadata": {
    "collapsed": false
   }
  },
  {
   "cell_type": "code",
   "execution_count": 13,
   "metadata": {
    "collapsed": false,
    "jupyter": {
     "outputs_hidden": false
    },
    "ExecuteTime": {
     "end_time": "2024-11-08T13:00:45.050157100Z",
     "start_time": "2024-11-08T13:00:45.037143300Z"
    }
   },
   "outputs": [
    {
     "data": {
      "text/plain": "False"
     },
     "execution_count": 13,
     "metadata": {},
     "output_type": "execute_result"
    }
   ],
   "source": [
    "\"Ã\" in vocab.dico_voca.keys()"
   ]
  },
  {
   "cell_type": "code",
   "execution_count": 14,
   "metadata": {
    "collapsed": false,
    "jupyter": {
     "outputs_hidden": false
    },
    "ExecuteTime": {
     "end_time": "2024-11-08T13:00:45.095200500Z",
     "start_time": "2024-11-08T13:00:45.051158200Z"
    }
   },
   "outputs": [
    {
     "data": {
      "text/plain": "(torch.Size([2908, 100]), 2908)"
     },
     "execution_count": 14,
     "metadata": {},
     "output_type": "execute_result"
    }
   ],
   "source": [
    "vocab.matrice.shape, len(vocab.dico_voca)"
   ]
  },
  {
   "cell_type": "code",
   "execution_count": 15,
   "metadata": {
    "collapsed": false,
    "jupyter": {
     "outputs_hidden": false
    },
    "ExecuteTime": {
     "end_time": "2024-11-08T13:00:45.102206800Z",
     "start_time": "2024-11-08T13:00:45.069176300Z"
    }
   },
   "outputs": [],
   "source": [
    "def process_data_with_corpus(vocab, tokens, k: int):\n",
    "    X_data, y_data = [], []\n",
    "    indices = [vocab.get_word_index2(token) for token in tokens]\n",
    "\n",
    "    for i in range(k, len(indices)):\n",
    "        x_indices = indices[i - k:i]\n",
    "        y_index = indices[i]\n",
    "\n",
    "        embeddings = [vocab.get_emb_torch(idx) for idx in x_indices]\n",
    "        x_embedded = torch.cat(embeddings)\n",
    "        X_data.append(x_embedded)\n",
    "        y_data.append(y_index)\n",
    "\n",
    "    X_tensor = torch.stack(X_data)\n",
    "    y_tensor = torch.tensor(y_data, dtype=torch.long)\n",
    "    return X_tensor, y_tensor\n"
   ]
  },
  {
   "cell_type": "code",
   "execution_count": 15,
   "metadata": {
    "collapsed": false,
    "jupyter": {
     "outputs_hidden": false
    },
    "ExecuteTime": {
     "end_time": "2024-11-08T13:00:45.102206800Z",
     "start_time": "2024-11-08T13:00:45.082188400Z"
    }
   },
   "outputs": [],
   "source": []
  },
  {
   "cell_type": "code",
   "execution_count": 118,
   "metadata": {
    "collapsed": false,
    "jupyter": {
     "outputs_hidden": false
    },
    "ExecuteTime": {
     "end_time": "2024-11-08T13:48:54.542791600Z",
     "start_time": "2024-11-08T13:48:54.483838100Z"
    }
   },
   "outputs": [],
   "source": [
    "k = 3\n",
    "train_file_path = \"../../resources/tlnl_tp1_data/alexandre_dumas/Le_comte_de_Monte_Cristo.train.unk5.tok\"\n",
    "test_file_path = \"../../resources/tlnl_tp1_data/alexandre_dumas/Le_comte_de_Monte_Cristo.test.unk5.tok\"\n",
    "\n",
    "train_tokens = read_corpus(train_file_path)\n",
    "test_tokens = read_corpus(test_file_path)"
   ]
  },
  {
   "cell_type": "code",
   "execution_count": 119,
   "outputs": [],
   "source": [
    "X_train, y_train = process_data_with_corpus(vocab, train_tokens, k=k)\n",
    "X_train = X_train.to(device)\n",
    "y_train = y_train.to(device)\n",
    "\n",
    "X_test, y_test = process_data_with_corpus(vocab, test_tokens, k=k)\n",
    "X_test = X_test.to(device)\n",
    "y_test = y_test.to(device)"
   ],
   "metadata": {
    "collapsed": false,
    "ExecuteTime": {
     "end_time": "2024-11-08T13:48:58.650338300Z",
     "start_time": "2024-11-08T13:48:54.897761200Z"
    }
   }
  },
  {
   "cell_type": "code",
   "execution_count": 120,
   "metadata": {
    "collapsed": false,
    "jupyter": {
     "outputs_hidden": false
    },
    "ExecuteTime": {
     "end_time": "2024-11-08T13:48:58.665352900Z",
     "start_time": "2024-11-08T13:48:58.651339300Z"
    }
   },
   "outputs": [
    {
     "data": {
      "text/plain": "(torch.Size([224535, 300]),\n torch.Size([224535]),\n torch.Size([24953, 300]),\n torch.Size([24953]))"
     },
     "execution_count": 120,
     "metadata": {},
     "output_type": "execute_result"
    }
   ],
   "source": [
    "X_train.shape, y_train.shape, X_test.shape, y_test.shape"
   ]
  },
  {
   "cell_type": "code",
   "execution_count": 185,
   "metadata": {
    "collapsed": false,
    "jupyter": {
     "outputs_hidden": false
    },
    "scrolled": true,
    "ExecuteTime": {
     "end_time": "2024-11-08T14:38:14.731481900Z",
     "start_time": "2024-11-08T14:38:14.704456500Z"
    }
   },
   "outputs": [],
   "source": [
    "class MLP(nn.Module):\n",
    "    def __init__(self, k, vocab_size):\n",
    "        super().__init__()\n",
    "        self.hidden_dim = hidden_dim\n",
    "        self.num_layers = num_layers\n",
    "        self.lstm = nn.LSTM(input_size=k, hidden_size=30, num_layers=10, batch_first=True)\n",
    "        self.fc1 = nn.Linear(30 * k, 32)\n",
    "        self.fc2 = nn.Linear(32, vocab_size)\n",
    "\n",
    "    def forward(self, x):\n",
    "        x = self.relu(self.l1(x))\n",
    "        x = self.dropout(x)\n",
    "        x = self.l2(x)\n",
    "        return x\n"
   ]
  },
  {
   "cell_type": "code",
   "execution_count": 186,
   "metadata": {
    "collapsed": false,
    "jupyter": {
     "outputs_hidden": false
    },
    "ExecuteTime": {
     "end_time": "2024-11-08T14:38:15.287859700Z",
     "start_time": "2024-11-08T14:38:15.274847200Z"
    }
   },
   "outputs": [],
   "source": [
    "def train(model, criterion, optimizer, X_train, y_train, X_test, y_test, device, batch_size=64, nb_epoch=10):\n",
    "    history = {\n",
    "        \"train_loss\": [],\n",
    "        \"test_loss\": []\n",
    "    }\n",
    "\n",
    "    num_samples = X_train.size(0)\n",
    "    num_batches = (num_samples + batch_size - 1) // batch_size\n",
    "\n",
    "    train_dataset = TensorDataset(X_train, y_train)\n",
    "    train_dataloader = DataLoader(train_dataset, batch_size=batch_size, shuffle=True)\n",
    "\n",
    "    test_dataset = TensorDataset(X_test, y_test)\n",
    "    test_loader = DataLoader(test_dataset, batch_size=batch_size, shuffle=False)\n",
    "\n",
    "    for epoch in range(nb_epoch):\n",
    "        model.train()\n",
    "        total_loss = 0.0\n",
    "\n",
    "        for batch_X, batch_Y in train_dataloader:\n",
    "            batch_X = batch_X.to(device)\n",
    "            batch_Y = batch_Y.to(device)\n",
    "\n",
    "            outputs = model(batch_X)\n",
    "            loss = criterion(outputs, batch_Y)\n",
    "\n",
    "            optimizer.zero_grad()\n",
    "            loss.backward()\n",
    "            optimizer.step()\n",
    "\n",
    "            total_loss += loss.item()\n",
    "\n",
    "        avg_train_loss = total_loss / num_batches\n",
    "        history[\"train_loss\"].append(avg_train_loss)\n",
    "\n",
    "        model.eval()\n",
    "        total_test_loss = 0\n",
    "        with torch.no_grad():\n",
    "            for batch_X, batch_Y in test_loader:\n",
    "                batch_X = batch_X.to(device)\n",
    "                batch_Y = batch_Y.to(device)\n",
    "                outputs = model(batch_X)\n",
    "                loss = criterion(outputs, batch_Y)\n",
    "\n",
    "                total_test_loss += loss.item()\n",
    "\n",
    "        avg_test_loss = total_test_loss / len(test_loader)\n",
    "        history[\"test_loss\"].append(avg_test_loss)\n",
    "\n",
    "        print(f'Epoch [{epoch+1}/{nb_epoch}], train loss: {avg_train_loss:.4f}, test loss: {avg_test_loss:.4f}')\n",
    "\n",
    "    return history"
   ]
  },
  {
   "cell_type": "code",
   "execution_count": 187,
   "metadata": {
    "ExecuteTime": {
     "end_time": "2024-11-08T14:38:16.014969600Z",
     "start_time": "2024-11-08T14:38:15.999091500Z"
    }
   },
   "outputs": [],
   "source": [
    "def calculate_perplexity(model, data_loader, device):\n",
    "    model.eval()  \n",
    "    total_loss = 0.0\n",
    "    total_words = 0\n",
    "\n",
    "    criterion = nn.CrossEntropyLoss(reduction='sum')  \n",
    "\n",
    "    with torch.no_grad():\n",
    "        for batch_X, batch_Y in data_loader:\n",
    "            batch_X = batch_X.to(device)\n",
    "            batch_Y = batch_Y.to(device)\n",
    "            outputs = model(batch_X)\n",
    "            loss = criterion(outputs, batch_Y)\n",
    "\n",
    "            total_loss += loss.item()\n",
    "            total_words += batch_Y.size(0)\n",
    "\n",
    "    # Calcul de la perplexité\n",
    "    avg_loss = total_loss / total_words\n",
    "    perplexity = math.exp(avg_loss)  \n",
    "    return perplexity\n",
    "\n",
    "\n"
   ]
  },
  {
   "cell_type": "code",
   "execution_count": 188,
   "metadata": {
    "ExecuteTime": {
     "end_time": "2024-11-08T14:38:16.460792800Z",
     "start_time": "2024-11-08T14:38:16.448781100Z"
    }
   },
   "outputs": [
    {
     "data": {
      "text/plain": "2908"
     },
     "execution_count": 188,
     "metadata": {},
     "output_type": "execute_result"
    }
   ],
   "source": [
    "len(vocab.dico_voca)"
   ]
  },
  {
   "cell_type": "code",
   "execution_count": 189,
   "metadata": {
    "collapsed": false,
    "jupyter": {
     "outputs_hidden": false
    },
    "ExecuteTime": {
     "end_time": "2024-11-08T14:38:16.972298700Z",
     "start_time": "2024-11-08T14:38:16.956284500Z"
    }
   },
   "outputs": [],
   "source": [
    "model = MLP(k=k, vocab_size=len(vocab.dico_voca)).to(device)\n",
    "optimizer = torch.optim.Adam(lr=1e-4, params=model.parameters(), weight_decay=1e-5)\n",
    "criterion = nn.CrossEntropyLoss()\n",
    "batch_size=64"
   ]
  },
  {
   "cell_type": "code",
   "execution_count": 190,
   "metadata": {
    "collapsed": false,
    "jupyter": {
     "outputs_hidden": false
    },
    "ExecuteTime": {
     "end_time": "2024-11-08T14:39:59.785128200Z",
     "start_time": "2024-11-08T14:38:17.616084200Z"
    }
   },
   "outputs": [
    {
     "name": "stdout",
     "output_type": "stream",
     "text": [
      "Epoch [1/20], train loss: 5.7397, test loss: 3.8585\n",
      "Epoch [2/20], train loss: 4.9011, test loss: 3.7058\n",
      "Epoch [3/20], train loss: 4.7316, test loss: 3.6111\n",
      "Epoch [4/20], train loss: 4.6192, test loss: 3.5209\n",
      "Epoch [5/20], train loss: 4.5424, test loss: 3.4549\n",
      "Epoch [6/20], train loss: 4.4855, test loss: 3.4117\n",
      "Epoch [7/20], train loss: 4.4420, test loss: 3.3736\n",
      "Epoch [8/20], train loss: 4.4041, test loss: 3.3478\n",
      "Epoch [9/20], train loss: 4.3700, test loss: 3.3174\n",
      "Epoch [10/20], train loss: 4.3414, test loss: 3.3081\n",
      "Epoch [11/20], train loss: 4.3212, test loss: 3.2780\n",
      "Epoch [12/20], train loss: 4.2985, test loss: 3.2587\n",
      "Epoch [13/20], train loss: 4.2828, test loss: 3.2426\n",
      "Epoch [14/20], train loss: 4.2655, test loss: 3.2261\n",
      "Epoch [15/20], train loss: 4.2527, test loss: 3.2225\n",
      "Epoch [16/20], train loss: 4.2383, test loss: 3.1975\n",
      "Epoch [17/20], train loss: 4.2284, test loss: 3.2008\n",
      "Epoch [18/20], train loss: 4.2149, test loss: 3.1899\n",
      "Epoch [19/20], train loss: 4.2086, test loss: 3.1886\n",
      "Epoch [20/20], train loss: 4.1997, test loss: 3.1713\n"
     ]
    }
   ],
   "source": [
    "history = train(model, criterion, optimizer, X_train, y_train, X_test, y_test, device, batch_size=batch_size, nb_epoch=20)"
   ]
  },
  {
   "cell_type": "code",
   "execution_count": 191,
   "metadata": {
    "collapsed": false,
    "jupyter": {
     "outputs_hidden": false
    },
    "ExecuteTime": {
     "end_time": "2024-11-08T14:40:57.169911400Z",
     "start_time": "2024-11-08T14:40:56.811983500Z"
    }
   },
   "outputs": [
    {
     "data": {
      "text/plain": "(0.0, 5.0)"
     },
     "execution_count": 191,
     "metadata": {},
     "output_type": "execute_result"
    },
    {
     "data": {
      "text/plain": "<Figure size 640x480 with 1 Axes>",
      "image/png": "[encoded data removed]"
     },
     "metadata": {},
     "output_type": "display_data"
    }
   ],
   "source": [
    "\n",
    "test_dataset = TensorDataset(X_test, y_test)\n",
    "test_loader = DataLoader(test_dataset, batch_size=batch_size, shuffle=False)\n",
    "perplexity = calculate_perplexity(model, test_loader, device)\n",
    "\n",
    "plt.plot(history[\"train_loss\"], c=\"blue\", label=\"Train loss\")\n",
    "plt.plot(history[\"test_loss\"], c=\"orange\", label=\"Test loss\")\n",
    "plt.ylabel(\"Score\")\n",
    "plt.xlabel(\"Epoch\")\n",
    "plt.title(f\"Training loss, perplexity: {perplexity:.2f}\")\n",
    "plt.legend()\n",
    "plt.ylim(0, 5)\n",
    "\n",
    "\n"
   ]
  },
  {
   "cell_type": "code",
   "execution_count": 192,
   "metadata": {
    "ExecuteTime": {
     "end_time": "2024-11-08T14:40:58.813772400Z",
     "start_time": "2024-11-08T14:40:58.800760100Z"
    }
   },
   "outputs": [],
   "source": [
    "def find_closest_word(output, embedding, vocab):\n",
    "    current_ixd = 0\n",
    "    dist = float(\"inf\")\n",
    "    for idx, line in enumerate(embedding):\n",
    "        if torch.linalg.norm(line - output) < dist:\n",
    "            current_ixd = idx\n",
    "            dist = torch.linalg.norm(line - output)\n",
    "    for word in vocab.dico_voca.keys():\n",
    "        if vocab.dico_voca[word] == current_ixd:\n",
    "            return word\n",
    "\n",
    "\n",
    "def run(model, vocab, embedding, start_word):\n",
    "    start_indices = [vocab.dico_voca[word] for word in start_word]\n",
    "    embeddings = torch.concat([torch.Tensor(embedding[idx]) for idx in start_indices])\n",
    "    output = model(embeddings)\n",
    "    next_word = find_closest_word(output, embeddings, vocab)\n",
    "    return next_word"
   ]
  },
  {
   "cell_type": "code",
   "execution_count": 194,
   "metadata": {
    "collapsed": false,
    "jupyter": {
     "outputs_hidden": false
    },
    "ExecuteTime": {
     "end_time": "2024-11-08T14:43:16.597786800Z",
     "start_time": "2024-11-08T14:43:16.543736800Z"
    }
   },
   "outputs": [
    {
     "name": "stdout",
     "output_type": "stream",
     "text": [
      "['le', 'lendemain', 'matin', 'elle', 'venait', 'celui', 'du', 'air', 'quand', 'cette', 'serait', 'monde', 'encore']\n"
     ]
    }
   ],
   "source": [
    "startword = \"le lendemain matin\"\n",
    "words = startword.split(\" \")\n",
    "for i in range(10):\n",
    "    current_words = words[-3:]\n",
    "    next_word = run(model, vocab, embedding=vocab.matrice, start_word=current_words)\n",
    "    words.append(next_word)\n",
    "\n",
    "print(words)"
   ]
  },
  {
   "cell_type": "code",
   "execution_count": 193,
   "outputs": [],
   "source": [],
   "metadata": {
    "collapsed": false,
    "ExecuteTime": {
     "end_time": "2024-11-08T14:40:59.648712600Z",
     "start_time": "2024-11-08T14:40:59.643707100Z"
    }
   }
  },
  {
   "cell_type": "code",
   "execution_count": 6,
   "outputs": [],
   "source": [],
   "metadata": {
    "collapsed": false,
    "ExecuteTime": {
     "end_time": "2024-11-08T12:58:38.059958700Z",
     "start_time": "2024-11-08T12:58:38.028977600Z"
    }
   }
  },
  {
   "cell_type": "code",
   "execution_count": 59,
   "outputs": [],
   "source": [],
   "metadata": {
    "collapsed": false,
    "ExecuteTime": {
     "end_time": "2024-11-08T12:48:50.402702800Z",
     "start_time": "2024-11-08T12:48:50.396697200Z"
    }
   }
  },
  {
   "cell_type": "code",
   "execution_count": 43,
   "outputs": [],
   "source": [],
   "metadata": {
    "collapsed": false,
    "ExecuteTime": {
     "end_time": "2024-11-08T12:42:51.281848100Z",
     "start_time": "2024-11-08T12:42:51.270834400Z"
    }
   }
  },
  {
   "cell_type": "code",
   "execution_count": null,
   "outputs": [],
   "source": [],
   "metadata": {
    "collapsed": false
   }
  }
 ],
 "metadata": {
  "kernelspec": {
   "display_name": "Python 3 (ipykernel)",
   "language": "python",
   "name": "python3"
  },
  "language_info": {
   "codemirror_mode": {
    "name": "ipython",
    "version": 3
   },
   "file_extension": ".py",
   "mimetype": "text/x-python",
   "name": "python",
   "nbconvert_exporter": "python",
   "pygments_lexer": "ipython3",
   "version": "3.10.0"
  }
 },
 "nbformat": 4,
 "nbformat_minor": 4
}
