{
 "cells": [
  {
   "cell_type": "code",
   "execution_count": 1,
   "metadata": {},
   "outputs": [],
   "source": [
    "import torch\n",
    "import torch.nn as nn\n",
    "from torch.utils.data import TensorDataset, DataLoader\n",
    "import sys, os\n",
    "import math\n",
    "from sklearn.model_selection import train_test_split\n",
    "module_path = os.path.abspath(os.path.join('../..'))\n",
    "\n",
    "if module_path not in sys.path:\n",
    "    sys.path.append(module_path)\n",
    "\n",
    "import matplotlib.pyplot as plt\n",
    "import static_token_div.tools.vocab_tools as vocab_tools"
   ]
  },
  {
   "cell_type": "code",
   "execution_count": 2,
   "metadata": {
    "collapsed": false,
    "jupyter": {
     "outputs_hidden": false
    }
   },
   "outputs": [
    {
     "name": "stdout",
     "output_type": "stream",
     "text": [
      "Using gpu: True \n"
     ]
    }
   ],
   "source": [
    "device = torch.device(\"cuda:0\" if torch.cuda.is_available() else \"cpu\")\n",
    "print('Using gpu: %s ' % torch.cuda.is_available())"
   ]
  },
  {
   "cell_type": "code",
   "execution_count": 3,
   "metadata": {
    "ExecuteTime": {
     "end_time": "2024-11-11T08:07:21.697666700Z",
     "start_time": "2024-11-11T08:07:21.655628900Z"
    },
    "collapsed": false,
    "jupyter": {
     "outputs_hidden": false
    }
   },
   "outputs": [],
   "source": [
    "def read_corpus(file_path):\n",
    "    with open(file_path, 'r', encoding='utf-8') as f:\n",
    "        text = f.read()\n",
    "    tokens = text.strip().split()\n",
    "    return tokens"
   ]
  },
  {
   "cell_type": "code",
   "execution_count": 4,
   "metadata": {
    "ExecuteTime": {
     "end_time": "2024-11-11T08:07:32.776730700Z",
     "start_time": "2024-11-11T08:07:21.669641700Z"
    }
   },
   "outputs": [
    {
     "name": "stdout",
     "output_type": "stream",
     "text": [
      "8847\n"
     ]
    },
    {
     "data": {
      "text/plain": [
       "8847"
      ]
     },
     "execution_count": 4,
     "metadata": {},
     "output_type": "execute_result"
    }
   ],
   "source": [
    "vocab = vocab_tools.Vocab(emb_filename=\"emb_filename.txt\")\n",
    "len(vocab.dico_voca)"
   ]
  },
  {
   "cell_type": "markdown",
   "metadata": {
    "collapsed": false,
    "jupyter": {
     "outputs_hidden": false
    }
   },
   "source": []
  },
  {
   "cell_type": "code",
   "execution_count": 5,
   "metadata": {
    "ExecuteTime": {
     "end_time": "2024-11-11T08:07:32.790744100Z",
     "start_time": "2024-11-11T08:07:32.777731500Z"
    },
    "collapsed": false,
    "jupyter": {
     "outputs_hidden": false
    }
   },
   "outputs": [
    {
     "data": {
      "text/plain": [
       "False"
      ]
     },
     "execution_count": 5,
     "metadata": {},
     "output_type": "execute_result"
    }
   ],
   "source": [
    "\"Ã\" in vocab.dico_voca.keys()"
   ]
  },
  {
   "cell_type": "code",
   "execution_count": 6,
   "metadata": {
    "ExecuteTime": {
     "end_time": "2024-11-11T08:07:32.847375Z",
     "start_time": "2024-11-11T08:07:32.790744100Z"
    },
    "collapsed": false,
    "jupyter": {
     "outputs_hidden": false
    }
   },
   "outputs": [
    {
     "data": {
      "text/plain": [
       "(torch.Size([21415, 100]), 8847)"
      ]
     },
     "execution_count": 6,
     "metadata": {},
     "output_type": "execute_result"
    }
   ],
   "source": [
    "vocab.matrice.shape, len(vocab.dico_voca)"
   ]
  },
  {
   "cell_type": "code",
   "execution_count": 7,
   "metadata": {
    "ExecuteTime": {
     "end_time": "2024-11-11T08:08:03.171620200Z",
     "start_time": "2024-11-11T08:08:03.162612500Z"
    },
    "collapsed": false,
    "jupyter": {
     "outputs_hidden": false
    }
   },
   "outputs": [],
   "source": [
    "def process_data_with_corpus(vocab, tokens, k: int):\n",
    "    X_data, y_data = [], []\n",
    "    indices = [vocab.get_word_index(token) for token in tokens]\n",
    "\n",
    "    for i in range(k, len(indices)):\n",
    "        x_indices = indices[i - k:i]\n",
    "        y_index = indices[i]\n",
    "\n",
    "        embeddings = [vocab.get_emb_torch(idx) for idx in x_indices]\n",
    "        x_embedded = torch.cat(embeddings)\n",
    "        X_data.append(x_embedded)\n",
    "        y_data.append(y_index)\n",
    "\n",
    "    X_tensor = torch.stack(X_data)\n",
    "    y_tensor = torch.tensor(y_data, dtype=torch.long)\n",
    "    return X_tensor, y_tensor\n"
   ]
  },
  {
   "cell_type": "code",
   "execution_count": 8,
   "metadata": {
    "ExecuteTime": {
     "end_time": "2024-11-11T08:08:04.030510800Z",
     "start_time": "2024-11-11T08:08:03.854349800Z"
    },
    "collapsed": false,
    "jupyter": {
     "outputs_hidden": false
    }
   },
   "outputs": [
    {
     "data": {
      "text/plain": [
       "2410384"
      ]
     },
     "execution_count": 8,
     "metadata": {},
     "output_type": "execute_result"
    }
   ],
   "source": [
    "k = 5\n",
    "file_path = \"../../resources/tlnl_tp1_data/alexandre_dumas/fusion.txt\"\n",
    "data = read_corpus(file_path)\n",
    "len(data)"
   ]
  },
  {
   "cell_type": "code",
   "execution_count": 9,
   "metadata": {
    "ExecuteTime": {
     "end_time": "2024-11-11T08:08:41.384930Z",
     "start_time": "2024-11-11T08:08:04.760660300Z"
    },
    "collapsed": false,
    "jupyter": {
     "outputs_hidden": false
    }
   },
   "outputs": [
    {
     "data": {
      "text/plain": [
       "(torch.Size([1928303, 500]), torch.Size([1928303]))"
      ]
     },
     "execution_count": 9,
     "metadata": {},
     "output_type": "execute_result"
    }
   ],
   "source": [
    "data = read_corpus(file_path)\n",
    "X_data, y_data = process_data_with_corpus(vocab, data, k=k)\n",
    "X_train, X_test, y_train, y_test = train_test_split(X_data, y_data, test_size=0.2)\n",
    "X_train.shape, y_train.shape"
   ]
  },
  {
   "cell_type": "code",
   "execution_count": 104,
   "metadata": {
    "ExecuteTime": {
     "end_time": "2024-11-09T18:44:54.591514200Z",
     "start_time": "2024-11-09T18:44:54.546975600Z"
    },
    "collapsed": false,
    "jupyter": {
     "outputs_hidden": false
    }
   },
   "outputs": [
    {
     "data": {
      "text/plain": [
       "'k = 3\\ntrain_file_path = \"../../resources/tlnl_tp1_data/alexandre_dumas/Le_comte_de_Monte_Cristo.train.unk5.tok\"\\ntest_file_path = \"../../resources/tlnl_tp1_data/alexandre_dumas/Le_comte_de_Monte_Cristo.test.unk5.tok\"\\n\\ntrain_tokens = read_corpus(train_file_path)\\ntest_tokens = read_corpus(test_file_path)'"
      ]
     },
     "execution_count": 104,
     "metadata": {},
     "output_type": "execute_result"
    }
   ],
   "source": [
    "'''k = 3\n",
    "train_file_path = \"../../resources/tlnl_tp1_data/alexandre_dumas/Le_comte_de_Monte_Cristo.train.unk5.tok\"\n",
    "test_file_path = \"../../resources/tlnl_tp1_data/alexandre_dumas/Le_comte_de_Monte_Cristo.test.unk5.tok\"\n",
    "\n",
    "train_tokens = read_corpus(train_file_path)\n",
    "test_tokens = read_corpus(test_file_path)'''"
   ]
  },
  {
   "cell_type": "code",
   "execution_count": 105,
   "metadata": {
    "ExecuteTime": {
     "end_time": "2024-11-09T18:44:54.598519900Z",
     "start_time": "2024-11-09T18:44:54.560986700Z"
    },
    "collapsed": false,
    "jupyter": {
     "outputs_hidden": false
    }
   },
   "outputs": [
    {
     "data": {
      "text/plain": [
       "'X_train, y_train = process_data_with_corpus(vocab, train_tokens, k=k)\\nX_train = X_train.to(device)\\ny_train = y_train.to(device)\\n\\nX_test, y_test = process_data_with_corpus(vocab, test_tokens, k=k)\\nX_test = X_test.to(device)\\ny_test = y_test.to(device)'"
      ]
     },
     "execution_count": 105,
     "metadata": {},
     "output_type": "execute_result"
    }
   ],
   "source": [
    "'''X_train, y_train = process_data_with_corpus(vocab, train_tokens, k=k)\n",
    "X_train = X_train.to(device)\n",
    "y_train = y_train.to(device)\n",
    "\n",
    "X_test, y_test = process_data_with_corpus(vocab, test_tokens, k=k)\n",
    "X_test = X_test.to(device)\n",
    "y_test = y_test.to(device)'''"
   ]
  },
  {
   "cell_type": "code",
   "execution_count": 10,
   "metadata": {
    "ExecuteTime": {
     "end_time": "2024-11-11T08:09:23.443020500Z",
     "start_time": "2024-11-11T08:09:23.435012700Z"
    },
    "collapsed": false,
    "jupyter": {
     "outputs_hidden": false
    },
    "scrolled": true
   },
   "outputs": [],
   "source": [
    "class MLP(nn.Module):\n",
    "    def __init__(self, k, vocab_size):\n",
    "        super().__init__()\n",
    "        self.relu = nn.ReLU()\n",
    "        self.fc1 = nn.Linear(100 * k, 128)\n",
    "\n",
    "        self.fc2 = nn.Linear(128, 32)\n",
    "        self.fc3 = nn.Linear(32, vocab_size)\n",
    "        self.dropout = nn.Dropout(0.2)\n",
    "\n",
    "    def forward(self, x):\n",
    "        x = self.relu(self.fc1(x))\n",
    "        #x = self.dropout(x)\n",
    "        x = self.relu(self.fc2(x))\n",
    "        x = self.fc3(x)\n",
    "        return x\n"
   ]
  },
  {
   "cell_type": "code",
   "execution_count": 11,
   "metadata": {
    "ExecuteTime": {
     "end_time": "2024-11-11T08:09:25.767546100Z",
     "start_time": "2024-11-11T08:09:25.749528100Z"
    },
    "collapsed": false,
    "jupyter": {
     "outputs_hidden": false
    }
   },
   "outputs": [],
   "source": [
    "def train(model, criterion, optimizer, X_train, y_train, X_test, y_test, device, batch_size=64, nb_epoch=10):\n",
    "    history = {\n",
    "        \"train_loss\": [],\n",
    "        \"test_loss\": []\n",
    "    }\n",
    "\n",
    "    num_samples = X_train.size(0)\n",
    "    num_batches = (num_samples + batch_size - 1) // batch_size\n",
    "\n",
    "    train_dataset = TensorDataset(X_train, y_train)\n",
    "    train_dataloader = DataLoader(train_dataset, batch_size=batch_size, shuffle=True)\n",
    "\n",
    "    test_dataset = TensorDataset(X_test, y_test)\n",
    "    test_loader = DataLoader(test_dataset, batch_size=batch_size, shuffle=False)\n",
    "\n",
    "    for epoch in range(nb_epoch):\n",
    "        model.train()\n",
    "        total_loss = 0.0\n",
    "\n",
    "        for batch_X, batch_Y in train_dataloader:\n",
    "            batch_X = batch_X.to(device)\n",
    "            batch_Y = batch_Y.to(device)\n",
    "\n",
    "            outputs = model(batch_X)\n",
    "            loss = criterion(outputs, batch_Y)\n",
    "\n",
    "            optimizer.zero_grad()\n",
    "            loss.backward()\n",
    "            optimizer.step()\n",
    "\n",
    "            total_loss += loss.item()\n",
    "\n",
    "        avg_train_loss = total_loss / num_batches\n",
    "        history[\"train_loss\"].append(avg_train_loss)\n",
    "\n",
    "        model.eval()\n",
    "        total_test_loss = 0\n",
    "        with torch.no_grad():\n",
    "            for batch_X, batch_Y in test_loader:\n",
    "                batch_X = batch_X.to(device)\n",
    "                batch_Y = batch_Y.to(device)\n",
    "                outputs = model(batch_X)\n",
    "                loss = criterion(outputs, batch_Y)\n",
    "\n",
    "                total_test_loss += loss.item()\n",
    "\n",
    "        avg_test_loss = total_test_loss / len(test_loader)\n",
    "        history[\"test_loss\"].append(avg_test_loss)\n",
    "\n",
    "        print(f'Epoch [{epoch+1}/{nb_epoch}], train loss: {avg_train_loss:.4f}, test loss: {avg_test_loss:.4f}')\n",
    "\n",
    "    return history"
   ]
  },
  {
   "cell_type": "code",
   "execution_count": 12,
   "metadata": {
    "ExecuteTime": {
     "end_time": "2024-11-11T08:09:27.028819500Z",
     "start_time": "2024-11-11T08:09:27.018809900Z"
    }
   },
   "outputs": [],
   "source": [
    "def calculate_perplexity(model, data_loader, device):\n",
    "    model.eval()  \n",
    "    total_loss = 0.0\n",
    "    total_words = 0\n",
    "\n",
    "    criterion = nn.CrossEntropyLoss(reduction='sum')  \n",
    "\n",
    "    with torch.no_grad():\n",
    "        for batch_X, batch_Y in data_loader:\n",
    "            batch_X = batch_X.to(device)\n",
    "            batch_Y = batch_Y.to(device)\n",
    "\n",
    "            outputs = model(batch_X)\n",
    "\n",
    "            loss = criterion(outputs, batch_Y)\n",
    "\n",
    "            total_loss += loss.item()\n",
    "            total_words += batch_Y.size(0)\n",
    "\n",
    "    # Calcul de la perplexité\n",
    "    avg_loss = total_loss / total_words\n",
    "    perplexity = math.exp(avg_loss)  \n",
    "    return perplexity"
   ]
  },
  {
   "cell_type": "code",
   "execution_count": 13,
   "metadata": {
    "ExecuteTime": {
     "end_time": "2024-11-11T08:09:28.470341700Z",
     "start_time": "2024-11-11T08:09:28.461333700Z"
    }
   },
   "outputs": [
    {
     "data": {
      "text/plain": [
       "8847"
      ]
     },
     "execution_count": 13,
     "metadata": {},
     "output_type": "execute_result"
    }
   ],
   "source": [
    "len(vocab.dico_voca)"
   ]
  },
  {
   "cell_type": "code",
   "execution_count": 14,
   "metadata": {
    "ExecuteTime": {
     "end_time": "2024-11-11T08:09:36.890814900Z",
     "start_time": "2024-11-11T08:09:35.994476900Z"
    },
    "collapsed": false,
    "jupyter": {
     "outputs_hidden": false
    }
   },
   "outputs": [],
   "source": [
    "model = MLP(k=k, vocab_size=vocab.vocab_size).to(device)\n",
    "optimizer = torch.optim.Adam(lr=1e-4, params=model.parameters(), weight_decay=1e-5)\n",
    "criterion = nn.CrossEntropyLoss()\n",
    "batch_size=64"
   ]
  },
  {
   "cell_type": "code",
   "execution_count": 17,
   "metadata": {
    "ExecuteTime": {
     "end_time": "2024-11-11T08:10:30.602282400Z",
     "start_time": "2024-11-11T08:09:46.756888900Z"
    },
    "collapsed": false,
    "jupyter": {
     "outputs_hidden": false
    }
   },
   "outputs": [
    {
     "name": "stdout",
     "output_type": "stream",
     "text": [
      "Epoch [1/10], train loss: 3.4569, test loss: 3.4944\n",
      "Epoch [2/10], train loss: 3.4508, test loss: 3.4888\n",
      "Epoch [3/10], train loss: 3.4459, test loss: 3.4870\n",
      "Epoch [4/10], train loss: 3.4408, test loss: 3.4828\n",
      "Epoch [5/10], train loss: 3.4364, test loss: 3.4787\n",
      "Epoch [6/10], train loss: 3.4326, test loss: 3.4767\n",
      "Epoch [7/10], train loss: 3.4290, test loss: 3.4739\n",
      "Epoch [8/10], train loss: 3.4254, test loss: 3.4749\n",
      "Epoch [9/10], train loss: 3.4227, test loss: 3.4694\n",
      "Epoch [10/10], train loss: 3.4197, test loss: 3.4705\n"
     ]
    }
   ],
   "source": [
    "history = train(model, criterion, optimizer, X_train, y_train, X_test, y_test, device, batch_size=batch_size, nb_epoch=10)"
   ]
  },
  {
   "cell_type": "code",
   "execution_count": 19,
   "metadata": {
    "ExecuteTime": {
     "end_time": "2024-11-09T18:48:40.119522700Z",
     "start_time": "2024-11-09T18:48:39.229576300Z"
    },
    "collapsed": false,
    "jupyter": {
     "outputs_hidden": false
    }
   },
   "outputs": [
    {
     "data": {
      "text/plain": [
       "(0.0, 5.0)"
      ]
     },
     "execution_count": 19,
     "metadata": {},
     "output_type": "execute_result"
    },
    {
     "data": {
      "image/png": "[encoded data removed]",
      "text/plain": [
       "<Figure size 640x480 with 1 Axes>"
      ]
     },
     "metadata": {},
     "output_type": "display_data"
    }
   ],
   "source": [
    "test_dataset = TensorDataset(X_test, y_test)\n",
    "test_loader = DataLoader(test_dataset, batch_size=batch_size, shuffle=False)\n",
    "perplexity = calculate_perplexity(model, test_loader, device)\n",
    "\n",
    "plt.plot(history[\"train_loss\"], c=\"blue\", label=\"Train loss\")\n",
    "plt.plot(history[\"test_loss\"], c=\"orange\", label=\"Test loss\")\n",
    "plt.ylabel(\"Score\")\n",
    "plt.xlabel(\"Epoch\")\n",
    "plt.title(f\"Training loss, perplexity: {perplexity:.2f}\")\n",
    "plt.legend()\n",
    "plt.ylim(0, 5)"
   ]
  },
  {
   "cell_type": "code",
   "execution_count": 97,
   "metadata": {
    "ExecuteTime": {
     "end_time": "2024-11-09T18:48:43.941906800Z",
     "start_time": "2024-11-09T18:48:43.934900300Z"
    }
   },
   "outputs": [],
   "source": [
    "def find_closest_word(output, embedding, vocab):\n",
    "    current_ixd = 0\n",
    "    dist = float(\"inf\")\n",
    "    for idx, line in enumerate(embedding):\n",
    "        if torch.linalg.norm(line - output) < dist:\n",
    "            current_ixd = idx\n",
    "            dist = torch.linalg.norm(line - output)\n",
    "    \n",
    "    return list(vocab.dico_voca.keys())[current_ixd]\n",
    "\n",
    "\n",
    "\n",
    "def run(model, vocab, embedding, start_word):\n",
    "    start_indices = [vocab.dico_voca[word] for word in start_word]\n",
    "    embeddings = torch.concat([torch.Tensor(embedding[idx]) for idx in start_indices])\n",
    "    output = model(embeddings)\n",
    "    next_word = find_closest_word(output, embeddings, vocab)\n",
    "    return next_word\n",
    "    "
   ]
  },
  {
   "cell_type": "code",
   "execution_count": 98,
   "metadata": {},
   "outputs": [
    {
     "data": {
      "text/plain": [
       "True"
      ]
     },
     "execution_count": 98,
     "metadata": {},
     "output_type": "execute_result"
    }
   ],
   "source": [
    "\"a\" in vocab.dico_voca.keys()"
   ]
  },
  {
   "cell_type": "code",
   "execution_count": 99,
   "metadata": {
    "ExecuteTime": {
     "end_time": "2024-11-09T18:49:03.034711600Z",
     "start_time": "2024-11-09T18:49:02.939330800Z"
    },
    "collapsed": false,
    "jupyter": {
     "outputs_hidden": false
    }
   },
   "outputs": [
    {
     "name": "stdout",
     "output_type": "stream",
     "text": [
      "['il', 'y', 'a', 'un', 'bateau', 'au', 'paix', 'monde', 'sombres', 'charles', 'y', 'maintenant', 'retour', 'plein', 'fils']\n"
     ]
    }
   ],
   "source": [
    "#startword = \"le lendemain matin\"\n",
    "startword = \"il y a un bateau\"\n",
    "words = startword.split(\" \")\n",
    "for i in range(10):\n",
    "    current_words = words[-k:]\n",
    "    next_word = run(model, vocab, embedding=vocab.matrice, start_word=current_words)\n",
    "    words.append(next_word)\n",
    "\n",
    "print(words)"
   ]
  },
  {
   "cell_type": "code",
   "execution_count": null,
   "metadata": {
    "ExecuteTime": {
     "end_time": "2024-11-08T14:40:59.648712600Z",
     "start_time": "2024-11-08T14:40:59.643707100Z"
    },
    "collapsed": false,
    "jupyter": {
     "outputs_hidden": false
    }
   },
   "outputs": [],
   "source": []
  },
  {
   "cell_type": "code",
   "execution_count": 6,
   "metadata": {
    "ExecuteTime": {
     "end_time": "2024-11-08T12:58:38.059958700Z",
     "start_time": "2024-11-08T12:58:38.028977600Z"
    },
    "collapsed": false,
    "jupyter": {
     "outputs_hidden": false
    }
   },
   "outputs": [],
   "source": []
  },
  {
   "cell_type": "code",
   "execution_count": 59,
   "metadata": {
    "ExecuteTime": {
     "end_time": "2024-11-08T12:48:50.402702800Z",
     "start_time": "2024-11-08T12:48:50.396697200Z"
    },
    "collapsed": false,
    "jupyter": {
     "outputs_hidden": false
    }
   },
   "outputs": [],
   "source": []
  },
  {
   "cell_type": "code",
   "execution_count": 43,
   "metadata": {
    "ExecuteTime": {
     "end_time": "2024-11-08T12:42:51.281848100Z",
     "start_time": "2024-11-08T12:42:51.270834400Z"
    },
    "collapsed": false,
    "jupyter": {
     "outputs_hidden": false
    }
   },
   "outputs": [],
   "source": []
  },
  {
   "cell_type": "code",
   "execution_count": null,
   "metadata": {
    "collapsed": false,
    "jupyter": {
     "outputs_hidden": false
    }
   },
   "outputs": [],
   "source": []
  }
 ],
 "metadata": {
  "kernelspec": {
   "display_name": "Python 3 (ipykernel)",
   "language": "python",
   "name": "python3"
  },
  "language_info": {
   "codemirror_mode": {
    "name": "ipython",
    "version": 3
   },
   "file_extension": ".py",
   "mimetype": "text/x-python",
   "name": "python",
   "nbconvert_exporter": "python",
   "pygments_lexer": "ipython3",
   "version": "3.10.0"
  }
 },
 "nbformat": 4,
 "nbformat_minor": 4
}
